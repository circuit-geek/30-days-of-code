{
 "cells": [
  {
   "cell_type": "markdown",
   "id": "0a339d0c",
   "metadata": {},
   "source": [
    "## This notebook contains all the important and basic numpy functions required for Data Science. ##"
   ]
  },
  {
   "cell_type": "code",
   "execution_count": 3,
   "id": "1f7359ed",
   "metadata": {},
   "outputs": [],
   "source": [
    "import numpy as np"
   ]
  },
  {
   "cell_type": "markdown",
   "id": "5b4d11b6",
   "metadata": {},
   "source": [
    "#### a) Trigonometric Functions"
   ]
  },
  {
   "cell_type": "code",
   "execution_count": 2,
   "id": "6c4218d9",
   "metadata": {},
   "outputs": [
    {
     "name": "stdout",
     "output_type": "stream",
     "text": [
      "Sine of different angles:\n",
      "[0.         0.5        0.70710678 0.8660254  1.        ]\n",
      "\n",
      "\n",
      "Cosine values for angles in array:\n",
      "[1.00000000e+00 8.66025404e-01 7.07106781e-01 5.00000000e-01\n",
      " 6.12323400e-17]\n",
      "\n",
      "\n",
      "Tangent values for given angles:\n",
      "[0.00000000e+00 5.77350269e-01 1.00000000e+00 1.73205081e+00\n",
      " 1.63312394e+16]\n"
     ]
    }
   ],
   "source": [
    "a = np.array([0,30,45,60,90]) \n",
    "\n",
    "print('Sine of different angles:') \n",
    "# Convert to radians by multiplying with pi/180 \n",
    "print(np.sin(a*np.pi/180)) \n",
    "print('\\n')  \n",
    "\n",
    "print('Cosine values for angles in array:') \n",
    "print(np.cos(a*np.pi/180)) \n",
    "print('\\n')  \n",
    "\n",
    "print('Tangent values for given angles:') \n",
    "print(np.tan(a*np.pi/180)) "
   ]
  },
  {
   "cell_type": "markdown",
   "id": "27b865ee",
   "metadata": {},
   "source": [
    "#### b) Around function "
   ]
  },
  {
   "cell_type": "markdown",
   "id": "95e80119",
   "metadata": {},
   "source": [
    "This is a function that returns the value rounded to the desired precision. The function takes the following parameters.\n",
    "\n",
    "decimals parameter is used to know the number of decimals to round of the number to.  Default is 0. If negative, the integer is rounded to position to the left of the decimal point."
   ]
  },
  {
   "cell_type": "code",
   "execution_count": 4,
   "id": "dddb3087",
   "metadata": {},
   "outputs": [
    {
     "name": "stdout",
     "output_type": "stream",
     "text": [
      "Original array:\n",
      "[  1.      5.55  123.      0.567  25.532]\n",
      "\n",
      "\n",
      "After rounding:\n",
      "[  1.   6. 123.   1.  26.]\n",
      "[  1.    5.6 123.    0.6  25.5]\n",
      "[  0.  10. 120.   0.  30.]\n"
     ]
    }
   ],
   "source": [
    "a = np.array([1.0,5.55, 123, 0.567, 25.532]) \n",
    "\n",
    "print('Original array:') \n",
    "print(a) \n",
    "print('\\n')  \n",
    "\n",
    "print('After rounding:') \n",
    "print(np.around(a)) \n",
    "print(np.around(a, decimals = 1)) \n",
    "print(np.around(a, decimals = -1))"
   ]
  },
  {
   "cell_type": "markdown",
   "id": "2559574a",
   "metadata": {},
   "source": [
    "#### c) Floor Function"
   ]
  },
  {
   "cell_type": "markdown",
   "id": "b0b921e3",
   "metadata": {},
   "source": [
    "This function returns the largest integer not greater than the input parameter. The floor of the scalar x is the largest \n",
    "integer i, such that i <= x. Note that in Python, flooring always is rounded away from 0."
   ]
  },
  {
   "cell_type": "code",
   "execution_count": 5,
   "id": "5e4501cd",
   "metadata": {},
   "outputs": [
    {
     "name": "stdout",
     "output_type": "stream",
     "text": [
      "The given array:\n",
      "[-1.7  1.5 -0.2  0.6 10. ]\n",
      "\n",
      "\n",
      "The modified array:\n",
      "[-2.  1. -1.  0. 10.]\n"
     ]
    }
   ],
   "source": [
    "a = np.array([-1.7, 1.5, -0.2, 0.6, 10]) \n",
    "\n",
    "print('The given array:') \n",
    "print(a) \n",
    "print('\\n')  \n",
    "\n",
    "print('The modified array:') \n",
    "print(np.floor(a))"
   ]
  },
  {
   "cell_type": "markdown",
   "id": "ecbc8906",
   "metadata": {},
   "source": [
    "#### d) Ceil Function"
   ]
  },
  {
   "cell_type": "markdown",
   "id": "65596db0",
   "metadata": {},
   "source": [
    "The ceil() function returns the ceiling of an input value, i.e. the ceil of the scalar x is the smallest integer i, \n",
    "such that i >= x."
   ]
  },
  {
   "cell_type": "code",
   "execution_count": 6,
   "id": "5824ba9b",
   "metadata": {},
   "outputs": [
    {
     "name": "stdout",
     "output_type": "stream",
     "text": [
      "The given array:\n",
      "[-1.7  1.5 -0.2  0.6 10. ]\n",
      "\n",
      "\n",
      "The modified array:\n",
      "[-1.  2. -0.  1. 10.]\n"
     ]
    }
   ],
   "source": [
    "a = np.array([-1.7, 1.5, -0.2, 0.6, 10]) \n",
    "\n",
    "print('The given array:') \n",
    "print(a) \n",
    "print('\\n')  \n",
    "\n",
    "print('The modified array:') \n",
    "print(np.ceil(a))"
   ]
  },
  {
   "cell_type": "markdown",
   "id": "29c3ad34",
   "metadata": {},
   "source": [
    "#### e) Arange Function"
   ]
  },
  {
   "cell_type": "markdown",
   "id": "3fd6e4bd",
   "metadata": {},
   "source": [
    "This function prints numbers between the initial specified value till last value - 1."
   ]
  },
  {
   "cell_type": "code",
   "execution_count": 8,
   "id": "025df46d",
   "metadata": {},
   "outputs": [
    {
     "name": "stdout",
     "output_type": "stream",
     "text": [
      "[1 2 3 4 5 6 7 8 9]\n",
      "[-1  0  1  2  3  4]\n"
     ]
    }
   ],
   "source": [
    "a = np.arange(1, 10)\n",
    "b = np.arange(-1, 5)\n",
    "print(a)\n",
    "print(b)"
   ]
  },
  {
   "cell_type": "markdown",
   "id": "1d37a459",
   "metadata": {},
   "source": [
    "#### f) sum and add in arrays"
   ]
  },
  {
   "cell_type": "code",
   "execution_count": 9,
   "id": "0e1893d2",
   "metadata": {},
   "outputs": [
    {
     "name": "stdout",
     "output_type": "stream",
     "text": [
      "[2 4 6]\n"
     ]
    }
   ],
   "source": [
    "arr1 = np.array([1, 2, 3])\n",
    "arr2 = np.array([1, 2, 3])\n",
    "\n",
    "newarr = np.add(arr1, arr2)\n",
    "\n",
    "print(newarr)"
   ]
  },
  {
   "cell_type": "code",
   "execution_count": 10,
   "id": "404d7998",
   "metadata": {},
   "outputs": [
    {
     "name": "stdout",
     "output_type": "stream",
     "text": [
      "12\n"
     ]
    }
   ],
   "source": [
    "arr1 = np.array([1, 2, 3])\n",
    "arr2 = np.array([1, 2, 3])\n",
    "newarr = np.sum([arr1, arr2])\n",
    "print(newarr)"
   ]
  },
  {
   "cell_type": "code",
   "execution_count": 11,
   "id": "ba95220a",
   "metadata": {},
   "outputs": [
    {
     "name": "stdout",
     "output_type": "stream",
     "text": [
      "[6 6]\n"
     ]
    }
   ],
   "source": [
    "arr1 = np.array([1, 2, 3])\n",
    "arr2 = np.array([1, 2, 3])\n",
    "newarr = np.sum([arr1, arr2], axis=1) #summation over axis\n",
    "print(newarr)"
   ]
  },
  {
   "cell_type": "code",
   "execution_count": 13,
   "id": "ad637c5a",
   "metadata": {},
   "outputs": [
    {
     "name": "stdout",
     "output_type": "stream",
     "text": [
      "[1 3 6]\n"
     ]
    }
   ],
   "source": [
    "arr = np.array([1, 2, 3])\n",
    "newarr = np.cumsum(arr) #cummulative sum (1, 1+2, 1+2+3)\n",
    "print(newarr)"
   ]
  }
 ],
 "metadata": {
  "kernelspec": {
   "display_name": "Python 3.8 (tensorflow)",
   "language": "python",
   "name": "tensorflow"
  },
  "language_info": {
   "codemirror_mode": {
    "name": "ipython",
    "version": 3
   },
   "file_extension": ".py",
   "mimetype": "text/x-python",
   "name": "python",
   "nbconvert_exporter": "python",
   "pygments_lexer": "ipython3",
   "version": "3.8.10"
  }
 },
 "nbformat": 4,
 "nbformat_minor": 5
}
